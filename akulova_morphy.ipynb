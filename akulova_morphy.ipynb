{
 "cells": [
  {
   "cell_type": "code",
   "execution_count": null,
   "metadata": {
    "collapsed": true
   },
   "outputs": [],
   "source": [
    "import json"
   ]
  },
  {
   "cell_type": "markdown",
   "source": [
    "# Морфология"
   ],
   "metadata": {
    "collapsed": false
   }
  },
  {
   "cell_type": "markdown",
   "source": [
    "# Задания 1 и 2.\n",
    "### Открываем книгу, у меня \"Волны\" Вирджинии Вульф. \n",
    "### Дальше анализируем текст и создаем джсон-файл."
   ],
   "metadata": {
    "collapsed": false
   }
  },
  {
   "cell_type": "code",
   "execution_count": null,
   "outputs": [],
   "source": [
    "with open('Vulf_Volny.60265.fb2.txt', 'r', encoding='utf-8') as a:\n",
    "    text = a.read()\n",
    "\"\"\"\n",
    "m = Mystem()\n",
    "text_stemmed = m.analyze(text)\n",
    "with open('book_stemm.json', 'w', encoding='utf-8') as f:\n",
    "    json.dump(text_stemmed, f, ensure_ascii=False)\n",
    "\"\"\""
   ],
   "metadata": {
    "collapsed": false,
    "pycharm": {
     "name": "#%%\n"
    }
   }
  },
  {
   "cell_type": "markdown",
   "source": [
    "### к сожалению, у меня не захотел работать майстем\n",
    "### пишет, что система не поддерживает"
   ],
   "metadata": {
    "collapsed": false,
    "pycharm": {
     "name": "#%% md\n"
    }
   }
  },
  {
   "cell_type": "markdown",
   "source": [
    "# Задание 3.\n",
    "### Токенизируем текст, убираем пунктуацию и вводим нижний регистр.\n",
    "### Парсим токены, делаем разбор каждого слова.\n",
    "### Записываем каждое слово, лемму и часть речи в словарь."
   ],
   "metadata": {
    "collapsed": false,
    "pycharm": {
     "name": "#%% md\n"
    }
   }
  },
  {
   "cell_type": "code",
   "execution_count": null,
   "outputs": [],
   "source": [
    "from pymorphy2 import MorphAnalyzer\n",
    "from nltk.tokenize import word_tokenize\n",
    "import nltk\n",
    "nltk.download('punkt')\n",
    "morpheus = MorphAnalyzer()\n",
    "spisok = [w.lower() for w in word_tokenize(text) if w.isalpha()]\n",
    "text_len = len(spisok)\n",
    "dict = {}\n",
    "for word in spisok:\n",
    "    nw = morpheus.parse(word)\n",
    "    nw1 = nw[0]\n",
    "    dict[nw1.word] = nw1.normal_form, nw1.tag.POS\n",
    "with open('book_py.json', 'w', encoding='utf-8') as f:\n",
    "    json.dump(dict, f, ensure_ascii=False)\n",
    "    "
   ],
   "metadata": {
    "collapsed": false,
    "pycharm": {
     "name": "#%%\n"
    }
   }
  },
  {
   "cell_type": "markdown",
   "source": [
    "# Задание 4.\n",
    "### Считаем долю слов каждой части речи."
   ],
   "metadata": {
    "collapsed": false,
    "pycharm": {
     "name": "#%% md\n"
    }
   }
  },
  {
   "cell_type": "code",
   "execution_count": null,
   "outputs": [],
   "source": [
    "pos = ['NOUN', 'ADJF', 'ADJS', 'COMP', 'VERB', 'INFN', 'PRTF',\n",
    "       'PRTS', 'GRND', 'NUMR', 'ADVB', 'NPRO', 'PRED', 'PREP',\n",
    "       'CONJ', 'PRCL', 'INTJ']\n",
    "for token in pos:\n",
    "    counter = 0\n",
    "    for word in spisok:\n",
    "        nw = morpheus.parse(word)\n",
    "        nw1 = nw[0]\n",
    "        if token in nw1.tag:\n",
    "            counter += 1\n",
    "    print(token, '-', (counter / text_len) * 100, '%')"
   ],
   "metadata": {
    "collapsed": false,
    "pycharm": {
     "name": "#%%\n"
    }
   }
  },
  {
   "cell_type": "markdown",
   "source": [
    "### Дальше составляем топ-20 глаголов и наречий."
   ],
   "metadata": {
    "collapsed": false,
    "pycharm": {
     "name": "#%% md\n"
    }
   }
  },
  {
   "cell_type": "code",
   "execution_count": null,
   "outputs": [],
   "source": [
    "import collections\n",
    "\n",
    "all_verbs = []\n",
    "all_adverbs = []\n",
    "for word in spisok:\n",
    "    nw = morpheus.parse(word)\n",
    "    nw1 = nw[0]\n",
    "    if 'VERB' in nw1.tag:\n",
    "        all_verbs.append(nw1.normal_form)\n",
    "    if 'ADVB' in nw1.tag:\n",
    "        all_adverbs.append(nw1.normal_form)\n",
    "dictV = collections.Counter(all_verbs)\n",
    "top_verbs = dictV.most_common(20)\n",
    "print(\"ТОП-20 ГЛАГОЛОВ:\\n\")\n",
    "counter_v = 0\n",
    "for i in top_verbs:\n",
    "    counter_v += 1\n",
    "    print(str(counter_v) + '.', i[0] + ':', i[1])\n",
    "dictA = collections.Counter(all_adverbs)\n",
    "top_adverbs = dictA.most_common(20)\n",
    "print(\"\\nТОП-20 НАРЕЧИЙ:\\n\")\n",
    "counter_a = 0\n",
    "for i in top_adverbs:\n",
    "    counter_a += 1\n",
    "    print(str(counter_a) + '.', i[0] + ':', i[1])\n"
   ],
   "metadata": {
    "collapsed": false,
    "pycharm": {
     "name": "#%%\n"
    }
   }
  }
 ],
 "metadata": {
  "kernelspec": {
   "display_name": "Python 3",
   "language": "python",
   "name": "python3"
  },
  "language_info": {
   "codemirror_mode": {
    "name": "ipython",
    "version": 2
   },
   "file_extension": ".py",
   "mimetype": "text/x-python",
   "name": "python",
   "nbconvert_exporter": "python",
   "pygments_lexer": "ipython2",
   "version": "2.7.6"
  },
  "pycharm": {
   "stem_cell": {
    "cell_type": "raw",
    "source": [],
    "metadata": {
     "collapsed": false
    }
   }
  }
 },
 "nbformat": 4,
 "nbformat_minor": 0
}