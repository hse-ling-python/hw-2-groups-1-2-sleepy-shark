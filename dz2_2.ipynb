{
 "cells": [
  {
   "cell_type": "markdown",
   "source": [
    "# Visualization"
   ],
   "metadata": {
    "collapsed": false,
    "pycharm": {
     "name": "#%% md\n"
    }
   }
  },
  {
   "cell_type": "markdown",
   "metadata": {
    "collapsed": true,
    "pycharm": {
     "is_executing": false,
     "name": "#%% md\n"
    }
   },
   "source": [
    "### все модули в одной ячейке"
   ]
  },
  {
   "cell_type": "code",
   "execution_count": null,
   "outputs": [],
   "source": [
    "import pandas as pd\n",
    "import json\n",
    "from string import punctuation\n",
    "from pymorphy2 import MorphAnalyzer\n",
    "import nltk\n",
    "from nltk.tokenize import word_tokenize\n",
    "nltk.download('punkt')\n",
    "morph = MorphAnalyzer()\n",
    "import matplotlib.pyplot as plt\n",
    "%matplotlib inline\n",
    "import seaborn as sns\n"
   ],
   "metadata": {
    "collapsed": false,
    "pycharm": {
     "name": "#%%\n"
    }
   }
  },
  {
   "cell_type": "markdown",
   "source": [
    "# task 1\n",
    "## повторно обрабатываем текст и готовим тэги для датафрейма; создаем собственно сам датафрейм"
   ],
   "metadata": {
    "collapsed": false,
    "pycharm": {
     "name": "#%% md\n"
    }
   }
  },
  {
   "cell_type": "code",
   "execution_count": null,
   "outputs": [],
   "source": [
    "with open('Vulf_Volny.60265.fb2.txt', 'r', encoding='utf-8') as f:\n",
    "    book = f.read()\n",
    "for i in punctuation:\n",
    "    book = book.replace(i, '')\n",
    "tokens = (word_tokenize(book))\n",
    "words_d = {}\n",
    "word_forms = []\n",
    "normal_forms = []\n",
    "tags = []\n",
    "POSs = []\n",
    "cases = []\n",
    "numbers = []\n",
    "genders = []\n",
    "anims = []\n",
    "aspects = []\n",
    "invols = []\n",
    "moods = []\n",
    "persons = []\n",
    "tenses = []\n",
    "trans = []\n",
    "voices = []\n",
    "\n",
    "for token in tokens:\n",
    "    annotation = morph.parse(token)\n",
    "    parse = annotation[0]\n",
    "    tag = parse.tag\n",
    "    pos = tag.POS\n",
    "    tagstr = str(tag)\n",
    "    tagstr = tagstr.split(',')\n",
    "    word_forms.append(parse.word)\n",
    "    normal_forms.append(parse.normal_form)\n",
    "    tags.append(tagstr)\n",
    "    POSs.append(tag.POS)\n",
    "    cases.append(tag.case)\n",
    "    numbers.append(tag.number)\n",
    "    genders.append(tag.gender)\n",
    "    anims.append(tag.animacy)\n",
    "    aspects.append(tag.aspect)\n",
    "    invols.append(tag.involvement)\n",
    "    moods.append(tag.mood)\n",
    "    persons.append(tag.person)\n",
    "    tenses.append(tag.tense)\n",
    "    trans.append(tag.transitivity)\n",
    "    voices.append(tag.voice)\n",
    "    \n",
    "words_d['word_form'] = word_forms\n",
    "words_d['normal_form'] = normal_forms\n",
    "words_d['POS'] = POSs\n",
    "words_d['case'] = cases\n",
    "words_d['number'] = numbers\n",
    "words_d['gender'] = genders\n",
    "words_d['animacy'] = anims\n",
    "words_d['aspect'] = aspects\n",
    "words_d['involvement'] = invols\n",
    "words_d['mood'] = moods\n",
    "words_d['person'] = persons\n",
    "words_d['tense'] = tenses\n",
    "words_d['transitivity'] = trans\n",
    "words_d['voice'] = voices\n",
    "with open('tags_table.json', 'w', encoding='utf-8') as f:\n",
    "    json.dump(words_d, f, ensure_ascii=False)\n",
    "\n",
    "\n",
    "data_frame = pd.DataFrame(words_d)\n",
    "\n",
    "data_frame.to_csv('woolf.csv', sep='\\t', index=False)\n",
    "\n",
    "woolf = pd.read_csv('woolf.csv', sep='\\t').fillna('')\n",
    "woolf.head(40)"
   ],
   "metadata": {
    "collapsed": false,
    "pycharm": {
     "name": "#%%\n"
    }
   }
  },
  {
   "cell_type": "markdown",
   "source": [
    "# task 2.1\n",
    "### графики  с семинара"
   ],
   "metadata": {
    "collapsed": false,
    "pycharm": {
     "name": "#%% md\n"
    }
   }
  },
  {
   "cell_type": "code",
   "execution_count": null,
   "outputs": [],
   "source": [
    "woolf['gender'].value_counts().plot.barh(color='pink')\n",
    "plt.title('Gender')\n",
    "plt.xlabel('gender')\n",
    "plt.ylabel('number of entries')"
   ],
   "metadata": {
    "collapsed": false,
    "pycharm": {
     "name": "#%%\n"
    }
   }
  },
  {
   "cell_type": "markdown",
   "source": [
    "# task 2.2"
   ],
   "metadata": {
    "collapsed": false,
    "pycharm": {
     "name": "#%% md\n"
    }
   }
  },
  {
   "cell_type": "code",
   "execution_count": null,
   "outputs": [],
   "source": [
    "df2 = woolf[\n",
    "    (woolf['gender'] != '') & (woolf['gender'] != 'мж')\n",
    "][\n",
    "    ['POS', 'gender', 'number']\n",
    "].groupby(['POS', 'gender'], as_index=False).count()\n",
    "df2.columns = ['POS', 'gender', 'total']\n",
    "sns.barplot(x=\"POS\", y=\"total\", hue='gender', data=df2)\n",
    "plt.title('Gender by POS')\n",
    "plt.xlabel('POS')\n",
    "plt.ylabel('number of entries')\n",
    "\n",
    "\n"
   ],
   "metadata": {
    "collapsed": false,
    "pycharm": {
     "name": "#%% \n"
    }
   }
  },
  {
   "cell_type": "markdown",
   "source": [
    "# task 2.3"
   ],
   "metadata": {
    "collapsed": false,
    "pycharm": {
     "name": "#%% md\n"
    }
   }
  },
  {
   "cell_type": "code",
   "execution_count": null,
   "outputs": [],
   "source": [
    "len_df = woolf[['normal_form', 'POS', 'gender']\n",
    "].groupby(['normal_form', 'POS'], as_index=False).count()\n",
    "len_df.columns = ['normal_form', 'POS', 'total']\n",
    "len_df = len_df[len_df['total'] > 10]\n",
    "\n",
    "len_df['length'] = woolf['word_form'].apply(len)\n",
    "plt.figure(figsize=(15, 5))\n",
    "sns.distplot(len_df['length'], bins=20, color='blue')\n",
    "plt.title('Distribution of lemma length')\n",
    "plt.ylabel('%')\n",
    "plt.xlabel('Length of word')\n",
    "\n",
    "\n"
   ],
   "metadata": {
    "collapsed": false,
    "pycharm": {
     "name": "#%%\n"
    }
   }
  },
  {
   "cell_type": "markdown",
   "source": [
    "# task 4\n",
    "### моя визуализация с частотностью падежей (барчарт в данном случае будет более репрезентативней)"
   ],
   "metadata": {
    "collapsed": false,
    "pycharm": {
     "name": "#%% md\n"
    }
   }
  },
  {
   "cell_type": "code",
   "execution_count": null,
   "outputs": [],
   "source": [
    "woolf['case'].value_counts().plot.bar(color='lightgreen')\n",
    "plt.title('Case frequency')\n",
    "plt.xlabel('cases')\n",
    "plt.ylabel('number of entries')\n"
   ],
   "metadata": {
    "collapsed": false,
    "pycharm": {
     "name": "#%%\n"
    }
   }
  },
  {
   "cell_type": "markdown",
   "source": [
    "# task 5"
   ],
   "metadata": {
    "collapsed": false,
    "pycharm": {
     "name": "#%% md\n"
    }
   }
  },
  {
   "cell_type": "code",
   "execution_count": null,
   "outputs": [],
   "source": [
    "nltk_normal = nltk.Text(list(woolf['normal_form']))\n",
    "names = [\"бернард\", \"сьюзен\", \"рода\", \"невил\", \"джинни\", \"луи\"]\n",
    "nltk_normal.dispersion_plot(names)"
   ],
   "metadata": {
    "collapsed": false,
    "pycharm": {
     "name": "#%%\n"
    }
   }
  }
 ],
 "metadata": {
  "kernelspec": {
   "display_name": "Python 3",
   "language": "python",
   "name": "python3"
  },
  "language_info": {
   "codemirror_mode": {
    "name": "ipython",
    "version": 2
   },
   "file_extension": ".py",
   "mimetype": "text/x-python",
   "name": "python",
   "nbconvert_exporter": "python",
   "pygments_lexer": "ipython2",
   "version": "2.7.6"
  },
  "pycharm": {
   "stem_cell": {
    "cell_type": "raw",
    "source": [],
    "metadata": {
     "collapsed": false
    }
   }
  }
 },
 "nbformat": 4,
 "nbformat_minor": 0
}